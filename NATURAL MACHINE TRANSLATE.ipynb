{
 "cells": [
  {
   "cell_type": "code",
   "execution_count": 1,
   "id": "774c7535",
   "metadata": {},
   "outputs": [
    {
     "name": "stderr",
     "output_type": "stream",
     "text": [
      "/home/serkanarslan/.local/lib/python3.6/site-packages/tensorflow/python/framework/dtypes.py:516: FutureWarning: Passing (type, 1) or '1type' as a synonym of type is deprecated; in a future version of numpy, it will be understood as (type, (1,)) / '(1,)type'.\n",
      "  _np_qint8 = np.dtype([(\"qint8\", np.int8, 1)])\n",
      "/home/serkanarslan/.local/lib/python3.6/site-packages/tensorflow/python/framework/dtypes.py:517: FutureWarning: Passing (type, 1) or '1type' as a synonym of type is deprecated; in a future version of numpy, it will be understood as (type, (1,)) / '(1,)type'.\n",
      "  _np_quint8 = np.dtype([(\"quint8\", np.uint8, 1)])\n",
      "/home/serkanarslan/.local/lib/python3.6/site-packages/tensorflow/python/framework/dtypes.py:518: FutureWarning: Passing (type, 1) or '1type' as a synonym of type is deprecated; in a future version of numpy, it will be understood as (type, (1,)) / '(1,)type'.\n",
      "  _np_qint16 = np.dtype([(\"qint16\", np.int16, 1)])\n",
      "/home/serkanarslan/.local/lib/python3.6/site-packages/tensorflow/python/framework/dtypes.py:519: FutureWarning: Passing (type, 1) or '1type' as a synonym of type is deprecated; in a future version of numpy, it will be understood as (type, (1,)) / '(1,)type'.\n",
      "  _np_quint16 = np.dtype([(\"quint16\", np.uint16, 1)])\n",
      "/home/serkanarslan/.local/lib/python3.6/site-packages/tensorflow/python/framework/dtypes.py:520: FutureWarning: Passing (type, 1) or '1type' as a synonym of type is deprecated; in a future version of numpy, it will be understood as (type, (1,)) / '(1,)type'.\n",
      "  _np_qint32 = np.dtype([(\"qint32\", np.int32, 1)])\n",
      "/home/serkanarslan/.local/lib/python3.6/site-packages/tensorflow/python/framework/dtypes.py:525: FutureWarning: Passing (type, 1) or '1type' as a synonym of type is deprecated; in a future version of numpy, it will be understood as (type, (1,)) / '(1,)type'.\n",
      "  np_resource = np.dtype([(\"resource\", np.ubyte, 1)])\n",
      "/home/serkanarslan/.local/lib/python3.6/site-packages/tensorboard/compat/tensorflow_stub/dtypes.py:541: FutureWarning: Passing (type, 1) or '1type' as a synonym of type is deprecated; in a future version of numpy, it will be understood as (type, (1,)) / '(1,)type'.\n",
      "  _np_qint8 = np.dtype([(\"qint8\", np.int8, 1)])\n",
      "/home/serkanarslan/.local/lib/python3.6/site-packages/tensorboard/compat/tensorflow_stub/dtypes.py:542: FutureWarning: Passing (type, 1) or '1type' as a synonym of type is deprecated; in a future version of numpy, it will be understood as (type, (1,)) / '(1,)type'.\n",
      "  _np_quint8 = np.dtype([(\"quint8\", np.uint8, 1)])\n",
      "/home/serkanarslan/.local/lib/python3.6/site-packages/tensorboard/compat/tensorflow_stub/dtypes.py:543: FutureWarning: Passing (type, 1) or '1type' as a synonym of type is deprecated; in a future version of numpy, it will be understood as (type, (1,)) / '(1,)type'.\n",
      "  _np_qint16 = np.dtype([(\"qint16\", np.int16, 1)])\n",
      "/home/serkanarslan/.local/lib/python3.6/site-packages/tensorboard/compat/tensorflow_stub/dtypes.py:544: FutureWarning: Passing (type, 1) or '1type' as a synonym of type is deprecated; in a future version of numpy, it will be understood as (type, (1,)) / '(1,)type'.\n",
      "  _np_quint16 = np.dtype([(\"quint16\", np.uint16, 1)])\n",
      "/home/serkanarslan/.local/lib/python3.6/site-packages/tensorboard/compat/tensorflow_stub/dtypes.py:545: FutureWarning: Passing (type, 1) or '1type' as a synonym of type is deprecated; in a future version of numpy, it will be understood as (type, (1,)) / '(1,)type'.\n",
      "  _np_qint32 = np.dtype([(\"qint32\", np.int32, 1)])\n",
      "/home/serkanarslan/.local/lib/python3.6/site-packages/tensorboard/compat/tensorflow_stub/dtypes.py:550: FutureWarning: Passing (type, 1) or '1type' as a synonym of type is deprecated; in a future version of numpy, it will be understood as (type, (1,)) / '(1,)type'.\n",
      "  np_resource = np.dtype([(\"resource\", np.ubyte, 1)])\n"
     ]
    }
   ],
   "source": [
    "import tensorflow as tf\n",
    "import numpy as np\n",
    "import warnings\n",
    "\n",
    "warnings.filterwarnings('ignore')"
   ]
  },
  {
   "cell_type": "code",
   "execution_count": 15,
   "id": "37b7494a",
   "metadata": {},
   "outputs": [],
   "source": [
    "from tensorflow.python.keras.models import Model\n",
    "from tensorflow.python.keras.layers import Input, Dense, GRU, Embedding, CuDNNGRU,LSTM\n",
    "from tensorflow.python.keras.optimizers import RMSprop\n",
    "from tensorflow.python.keras.callbacks import ModelCheckpoint\n",
    "from tensorflow.python.keras.preprocessing.text import Tokenizer\n",
    "from tensorflow.python.keras.preprocessing.sequence import pad_sequences"
   ]
  },
  {
   "cell_type": "code",
   "execution_count": 3,
   "id": "eeeef5e5",
   "metadata": {},
   "outputs": [],
   "source": [
    "mark_start = 'ssss '\n",
    "mark_end = ' eeee'"
   ]
  },
  {
   "cell_type": "code",
   "execution_count": 5,
   "id": "215702aa",
   "metadata": {},
   "outputs": [],
   "source": [
    "def data(filename: str) -> list():\n",
    "    data_src = []\n",
    "    data_dest = []\n",
    "\n",
    "    for line in open(filename, encoding='UTF-8'):\n",
    "        en_text, tr_text = line.rstrip().split('\\t')\n",
    "\n",
    "        tr_text = mark_start + tr_text + mark_end\n",
    "\n",
    "        data_src.append(en_text)\n",
    "        data_dest.append(tr_text)\n",
    "    \n",
    "    return data_src, data_dest\n",
    "\n",
    "data_src, data_dest = data('tur.txt')"
   ]
  },
  {
   "cell_type": "code",
   "execution_count": 6,
   "id": "b0d50052",
   "metadata": {},
   "outputs": [],
   "source": [
    "class TokenizerWrap(Tokenizer):\n",
    "    def __init__(self, texts, padding, reverse=False, num_words=None):\n",
    "        Tokenizer.__init__(self, num_words=num_words)\n",
    "        \n",
    "        self.fit_on_texts(texts)\n",
    "        \n",
    "        self.index_to_word = dict(zip(self.word_index.values(), self.word_index.keys()))\n",
    "        \n",
    "        self.tokens = self.texts_to_sequences(texts)\n",
    "        \n",
    "        if reverse:\n",
    "            self.tokens = [list(reversed(x)) for x in self.tokens]\n",
    "            truncating = 'pre'\n",
    "        else:\n",
    "            truncating = 'post'\n",
    "            \n",
    "        self.num_tokens = [len(x) for x in self.tokens]\n",
    "        self.max_tokens = np.mean(self.num_tokens) + 2 * np.std(self.num_tokens)\n",
    "        self.max_tokens = int(self.max_tokens)\n",
    "        \n",
    "        self.tokens_padded = pad_sequences(self.tokens,\n",
    "                                           maxlen=self.max_tokens,\n",
    "                                           padding=padding,\n",
    "                                           truncating=truncating)\n",
    "        \n",
    "    def token_to_word(self, token):\n",
    "        word = ' ' if token == 0 else self.index_to_word[token]\n",
    "        return word\n",
    "    \n",
    "    def tokens_to_string(self, tokens):\n",
    "        words = [self.index_to_word[token] for token in tokens if token != 0]\n",
    "        text = ' '.join(words)\n",
    "        return text\n",
    "    \n",
    "    def text_to_tokens(self, text, padding, reverse=False):\n",
    "        tokens = self.texts_to_sequences([text])\n",
    "        tokens = np.array(tokens)\n",
    "        \n",
    "        if reverse:\n",
    "            tokens = np.flip(tokens, axis=1)\n",
    "            truncating = 'pre'\n",
    "        else:\n",
    "            truncating = 'post'\n",
    "            \n",
    "        tokens = pad_sequences(tokens,\n",
    "                               maxlen=self.max_tokens,\n",
    "                               padding=padding,\n",
    "                               truncating=truncating)\n",
    "        \n",
    "        return tokens"
   ]
  },
  {
   "cell_type": "code",
   "execution_count": 7,
   "id": "47748e12",
   "metadata": {},
   "outputs": [],
   "source": [
    "tokenizer_src = TokenizerWrap(texts=data_src,\n",
    "                              padding='pre',\n",
    "                              reverse=True,\n",
    "                              num_words=None)\n",
    "\n",
    "tokenizer_dest = TokenizerWrap(texts=data_dest,\n",
    "                              padding='post',\n",
    "                              reverse=False,\n",
    "                              num_words=None)"
   ]
  },
  {
   "cell_type": "code",
   "execution_count": 8,
   "id": "82069847",
   "metadata": {},
   "outputs": [
    {
     "name": "stdout",
     "output_type": "stream",
     "text": [
      "(473035, 11)\n",
      "(473035, 10)\n"
     ]
    }
   ],
   "source": [
    "tokens_src = tokenizer_src.tokens_padded\n",
    "tokens_dest = tokenizer_dest.tokens_padded\n",
    "print(tokens_src.shape)\n",
    "print(tokens_dest.shape)"
   ]
  },
  {
   "cell_type": "code",
   "execution_count": 9,
   "id": "9b9fd093",
   "metadata": {},
   "outputs": [],
   "source": [
    "token_start = tokenizer_dest.word_index[mark_start.strip()]\n",
    "token_end = tokenizer_dest.word_index[mark_end.strip()]"
   ]
  },
  {
   "cell_type": "code",
   "execution_count": 10,
   "id": "72ec0466",
   "metadata": {},
   "outputs": [],
   "source": [
    "encoder_input_data = tokens_src\n",
    "\n",
    "decoder_input_data = tokens_dest[:, :-1]\n",
    "decoder_output_data = tokens_dest[:, 1:]"
   ]
  },
  {
   "cell_type": "code",
   "execution_count": 11,
   "id": "3683d9f0",
   "metadata": {},
   "outputs": [],
   "source": [
    "num_encoder_words = len(tokenizer_src.word_index)+1\n",
    "num_decoder_words = len(tokenizer_dest.word_index)+1"
   ]
  },
  {
   "cell_type": "code",
   "execution_count": 12,
   "id": "c849ce5e",
   "metadata": {},
   "outputs": [
    {
     "data": {
      "text/plain": [
       "94059"
      ]
     },
     "execution_count": 12,
     "metadata": {},
     "output_type": "execute_result"
    }
   ],
   "source": [
    "num_decoder_words"
   ]
  },
  {
   "cell_type": "code",
   "execution_count": 13,
   "id": "70375763",
   "metadata": {},
   "outputs": [],
   "source": [
    "embedding_size = 100\n",
    "\n",
    "word2vec = {}\n",
    "with open('glove.6B.100d.txt', encoding='UTF-8') as f:\n",
    "    for line in f:\n",
    "        values = line.split()\n",
    "        word = values[0]\n",
    "        vec = np.asarray(values[1:], dtype='float32')\n",
    "        word2vec[word] = vec\n",
    "        \n",
    "        \n",
    "embedding_matrix = np.random.uniform(-1, 1, (num_encoder_words, embedding_size))\n",
    "for word, i in tokenizer_src.word_index.items():\n",
    "    if i < num_encoder_words:\n",
    "        embedding_vector = word2vec.get(word)\n",
    "        if embedding_vector is not None:\n",
    "            embedding_matrix[i] = embedding_vector"
   ]
  },
  {
   "cell_type": "code",
   "execution_count": 44,
   "id": "646659fd",
   "metadata": {},
   "outputs": [],
   "source": [
    "class Encoder:\n",
    "    def __init__(self,**kwargs):\n",
    "        \n",
    "        self.encoder_input = Input(shape=(None,), name='encoder_input')\n",
    "        \n",
    "        self.encoder_embedding = Embedding(input_dim=num_encoder_words,\n",
    "                              output_dim=embedding_size,\n",
    "                              weights=[embedding_matrix],\n",
    "                              trainable=True,\n",
    "                              name='encoder_embedding')\n",
    "        \n",
    "        self.encoder_lstm1 = LSTM(state_size, name='encoder_lstm1', return_sequences=True)\n",
    "        self.encoder_lstm2 = LSTM(state_size, name='encoder_lstm2', return_sequences=True)\n",
    "        self.encoder_lstm3 = LSTM(state_size, name='encoder_lstm3', return_sequences=False)\n",
    "        \n",
    "        \n",
    "    def connect_encoder(self):\n",
    "        net = self.encoder_input\n",
    "\n",
    "        net = self.encoder_embedding(net)\n",
    "\n",
    "        net = self.encoder_lstm1(net)\n",
    "        net = self.encoder_lstm2(net)\n",
    "        net = self.encoder_lstm3(net)\n",
    "\n",
    "        self.encoder_output = net\n",
    "\n",
    "        return self.encoder_output\n"
   ]
  },
  {
   "cell_type": "code",
   "execution_count": 45,
   "id": "e3fa2fe5",
   "metadata": {},
   "outputs": [],
   "source": [
    "state_size = 256\n",
    "\n",
    "encoder = Encoder(num_encoder_words = num_encoder_words, embedding_size = embedding_size, \n",
    "                  embedding_matrix = embedding_matrix, state_size = state_size)\n",
    "\n",
    "\n",
    "encoder_output = encoder.connect_encoder()"
   ]
  },
  {
   "cell_type": "code",
   "execution_count": 49,
   "id": "479b80d4",
   "metadata": {},
   "outputs": [],
   "source": [
    "class Decoder:\n",
    "    def __init__(self, **kwargs):\n",
    "        \n",
    "        self.decoder_initial_state = Input(shape=(state_size,), name='decoder_initial_state')\n",
    "        \n",
    "        self.decoder_input = Input(shape=(None,), name='decoder_input')\n",
    "        \n",
    "        self.decoder_embedding = Embedding(input_dim=num_decoder_words,\n",
    "                              output_dim=embedding_size,\n",
    "                              name='decoder_embedding')\n",
    "        \n",
    "        self.decoder_lstm1 = LSTM(state_size, name='decoder_lstm1', return_sequences=True)\n",
    "        self.decoder_lstm2 = LSTM(state_size, name='decoder_lstm2', return_sequences=True)\n",
    "        self.decoder_lstm3 = LSTM(state_size, name='decoder_lstm3', return_sequences=True)\n",
    "        \n",
    "        self.decoder_dense = Dense(num_decoder_words,\n",
    "                      activation='linear',\n",
    "                      name='decoder_output')\n",
    "        \n",
    "    def connect_decoder(self,initial_state):\n",
    "        net = self.decoder_input\n",
    "\n",
    "        net = self.decoder_embedding(net)\n",
    "\n",
    "        net = self.decoder_lstm1(net, initial_state=[initial_state,initial_state])\n",
    "        net = self.decoder_lstm2(net, initial_state=[initial_state,initial_state])\n",
    "        net = self.decoder_lstm3(net, initial_state=[initial_state,initial_state])\n",
    "\n",
    "        self.decoder_output = self.decoder_dense(net)\n",
    "\n",
    "        return self.decoder_output"
   ]
  },
  {
   "cell_type": "code",
   "execution_count": 55,
   "id": "be90e4bd",
   "metadata": {},
   "outputs": [],
   "source": [
    "decoder = Decoder(state_size=state_size, num_decoder_words=num_decoder_words, embedding_size=embedding_size)\n",
    "\n",
    "decoder_output = decoder.connect_decoder(initial_state = encoder_output)"
   ]
  },
  {
   "cell_type": "code",
   "execution_count": 56,
   "id": "f057c2c4",
   "metadata": {},
   "outputs": [],
   "source": [
    "model_train = Model(inputs=[encoder.encoder_input, decoder.decoder_input], outputs=[decoder_output])"
   ]
  },
  {
   "cell_type": "code",
   "execution_count": 57,
   "id": "c7463898",
   "metadata": {},
   "outputs": [],
   "source": [
    "model_encoder = Model(inputs=[encoder.encoder_input], outputs=[encoder_output])"
   ]
  },
  {
   "cell_type": "code",
   "execution_count": 60,
   "id": "6884cffe",
   "metadata": {},
   "outputs": [],
   "source": [
    "decoder_output = decoder.connect_decoder(initial_state = decoder.decoder_initial_state)\n",
    "\n",
    "model_decoder = Model(inputs=[decoder.decoder_input, decoder.decoder_initial_state], outputs=[decoder_output])"
   ]
  },
  {
   "cell_type": "code",
   "execution_count": 61,
   "id": "8447cece",
   "metadata": {},
   "outputs": [],
   "source": [
    "def sparse_cross_entropy(y_true, y_pred):\n",
    "    loss = tf.nn.sparse_softmax_cross_entropy_with_logits(labels=y_true, logits=y_pred)\n",
    "    loss_mean = tf.reduce_mean(loss)\n",
    "    return loss_mean"
   ]
  },
  {
   "cell_type": "code",
   "execution_count": 62,
   "id": "15f6b4d9",
   "metadata": {},
   "outputs": [],
   "source": [
    "optimizer = RMSprop(lr=1e-3)"
   ]
  },
  {
   "cell_type": "code",
   "execution_count": 63,
   "id": "36d42a1a",
   "metadata": {},
   "outputs": [],
   "source": [
    "decoder_target = tf.placeholder(dtype='int32', shape=(None,None))"
   ]
  },
  {
   "cell_type": "code",
   "execution_count": 64,
   "id": "e4706150",
   "metadata": {},
   "outputs": [],
   "source": [
    "model_train.compile(optimizer=optimizer,\n",
    "                    loss=sparse_cross_entropy,\n",
    "                    target_tensors=[decoder_target])"
   ]
  },
  {
   "cell_type": "code",
   "execution_count": 65,
   "id": "45bea610",
   "metadata": {},
   "outputs": [],
   "source": [
    "x_data = {'encoder_input': encoder_input_data, 'decoder_input': decoder_input_data}"
   ]
  },
  {
   "cell_type": "code",
   "execution_count": 66,
   "id": "87d80082",
   "metadata": {},
   "outputs": [],
   "source": [
    "y_data = {'decoder_output': decoder_output_data}"
   ]
  },
  {
   "cell_type": "code",
   "execution_count": 67,
   "id": "35107c8d",
   "metadata": {},
   "outputs": [],
   "source": [
    "path_checkpoint = 'checkpoint.lstm'\n",
    "checkpoint = ModelCheckpoint(filepath=path_checkpoint, save_weights_only=True)"
   ]
  },
  {
   "cell_type": "code",
   "execution_count": null,
   "id": "5059db27",
   "metadata": {},
   "outputs": [
    {
     "name": "stdout",
     "output_type": "stream",
     "text": [
      "WARNING:tensorflow:From /home/serkanarslan/.local/lib/python3.6/site-packages/tensorflow/python/ops/math_grad.py:1250: add_dispatch_support.<locals>.wrapper (from tensorflow.python.ops.array_ops) is deprecated and will be removed in a future version.\n",
      "Instructions for updating:\n",
      "Use tf.where in 2.0, which has the same broadcast rule as np.where\n",
      "Epoch 1/5\n",
      "460800/473035 [============================>.] - ETA: 3:12 - loss: 3.8522"
     ]
    }
   ],
   "source": [
    "model_train.fit(x=x_data,\n",
    "                y=y_data,\n",
    "                batch_size=512,\n",
    "                epochs=5,\n",
    "                callbacks=[checkpoint])"
   ]
  },
  {
   "cell_type": "code",
   "execution_count": null,
   "id": "9d04b384",
   "metadata": {},
   "outputs": [],
   "source": []
  }
 ],
 "metadata": {
  "kernelspec": {
   "display_name": "Python 3",
   "language": "python",
   "name": "python3"
  },
  "language_info": {
   "codemirror_mode": {
    "name": "ipython",
    "version": 3
   },
   "file_extension": ".py",
   "mimetype": "text/x-python",
   "name": "python",
   "nbconvert_exporter": "python",
   "pygments_lexer": "ipython3",
   "version": "3.6.9"
  }
 },
 "nbformat": 4,
 "nbformat_minor": 5
}
